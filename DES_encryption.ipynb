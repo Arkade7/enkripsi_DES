{
 "cells": [
  {
   "cell_type": "code",
   "execution_count": 109,
   "metadata": {
    "colab": {
     "base_uri": "https://localhost:8080/",
     "height": 35
    },
    "id": "1al0n3c6SmQh",
    "outputId": "d4aefa02-92b5-4ab9-9e7a-2a560131b38f"
   },
   "outputs": [
    {
     "name": "stdout",
     "output_type": "stream",
     "text": [
      "masukkan plaintext : abcdefgh\n",
      "ABCDEFGH\n"
     ]
    }
   ],
   "source": [
    "plainText = input(\"masukkan plaintext : \")\n",
    "plainText = plainText.upper()\n",
    "print(plainText)\n",
    "#computer"
   ]
  },
  {
   "cell_type": "code",
   "execution_count": 110,
   "metadata": {
    "colab": {
     "base_uri": "https://localhost:8080/",
     "height": 35
    },
    "id": "eyu0PAPLTcw5",
    "outputId": "d5bb0e29-221f-4d91-b154-4e1c67fab94d",
    "scrolled": true
   },
   "outputs": [
    {
     "name": "stdout",
     "output_type": "stream",
     "text": [
      "masukkan kunci (heksadesimal) : 13 34 57 79 9B BC DF F1\n",
      "13 34 57 79 9B BC DF F1\n"
     ]
    }
   ],
   "source": [
    "#13 34 57 79 9B BC DF F1\n",
    "key = input(\"masukkan kunci (heksadesimal) : \")\n",
    "print(key)"
   ]
  },
  {
   "cell_type": "code",
   "execution_count": 111,
   "metadata": {
    "colab": {
     "base_uri": "https://localhost:8080/"
    },
    "id": "fScXnwPCTCfu",
    "outputId": "073d9f94-a50c-4b06-e7a6-a7d9a7a1d3d9"
   },
   "outputs": [
    {
     "name": "stdout",
     "output_type": "stream",
     "text": [
      "[65, 66, 67, 68, 69, 70, 71, 72]\n"
     ]
    }
   ],
   "source": [
    "# Validasi Input User\n",
    "if not len(plainText) == 8 :\n",
    "  print(\"Panjang plaintext harus 8 !\")\n",
    "elif not len(key.split()) == 8 :\n",
    "  print(\"Panjang key harus 8 !\")\n",
    "else :\n",
    "  # Dapatkan value ASCII tiap char menggunakan fungsi ord()\n",
    "  ascii_value = []\n",
    "  for i in range(len(plainText)):\n",
    "    ascii_value.append(ord(plainText[i]))\n",
    "print(ascii_value)"
   ]
  },
  {
   "cell_type": "markdown",
   "metadata": {
    "id": "HUmWw1XoWh5t"
   },
   "source": [
    "Ubah tiap value dari karakter ASCII ke dalam binary"
   ]
  },
  {
   "cell_type": "code",
   "execution_count": 112,
   "metadata": {
    "id": "_8Kq6jTsWT_D"
   },
   "outputs": [],
   "source": [
    "def dec2bin(num):\n",
    "  result = bin(num).replace(\"0b\", \"\")\n",
    "  if(len(result) % 4 != 0):\n",
    "    div = len(result) / 4\n",
    "    div = int(div)\n",
    "    counter = (4 * (div + 1)) - len(result)\n",
    "    for i in range(0, counter):\n",
    "      result = '0' + result\n",
    "  return result"
   ]
  },
  {
   "cell_type": "code",
   "execution_count": 113,
   "metadata": {
    "colab": {
     "base_uri": "https://localhost:8080/"
    },
    "id": "9iQGILBHXU0K",
    "outputId": "3be6d933-254e-4ad3-f28f-22a6d55fe255"
   },
   "outputs": [
    {
     "name": "stdout",
     "output_type": "stream",
     "text": [
      "['01000001', '01000010', '01000011', '01000100', '01000101', '01000110', '01000111', '01001000']\n"
     ]
    }
   ],
   "source": [
    "ascii_binary = []\n",
    "for i in range(len(ascii_value)):\n",
    "  ascii_binary.append(dec2bin(ascii_value[i]))\n",
    "print(ascii_binary)"
   ]
  },
  {
   "cell_type": "code",
   "execution_count": 114,
   "metadata": {
    "colab": {
     "base_uri": "https://localhost:8080/",
     "height": 35
    },
    "id": "bFr7jf3obKc8",
    "outputId": "0066299f-e541-435e-830a-275e8206ac06"
   },
   "outputs": [
    {
     "name": "stdout",
     "output_type": "stream",
     "text": [
      "0100000101000010010000110100010001000101010001100100011101001000\n"
     ]
    }
   ],
   "source": [
    "ascii_binary = \"\".join(ascii_binary)\n",
    "print(ascii_binary)"
   ]
  },
  {
   "cell_type": "markdown",
   "metadata": {
    "id": "YFs2OBB7jCYz"
   },
   "source": [
    "**Langkah 1 : Encoding setiap 64 bit data pada plaintext dengan Initial Permutasi**"
   ]
  },
  {
   "cell_type": "markdown",
   "metadata": {
    "id": "5YMF1ddDZwjn"
   },
   "source": [
    "Mengatur ulang posisi semua bit teks biasa menjadi matriks initial_perm(8x8)"
   ]
  },
  {
   "cell_type": "code",
   "execution_count": 115,
   "metadata": {
    "id": "C801-f1u5Bf3"
   },
   "outputs": [],
   "source": [
    "initial_perm = [58, 50, 42, 34, 26, 18, 10, 2,\n",
    "                60, 52, 44, 36, 28, 20, 12, 4,\n",
    "                62, 54, 46, 38, 30, 22, 14, 6,\n",
    "                64, 56, 48, 40, 32, 24, 16, 8,\n",
    "                57, 49, 41, 33, 25, 17, 9, 1,\n",
    "                59, 51, 43, 35, 27, 19, 11, 3,\n",
    "                61, 53, 45, 37, 29, 21, 13, 5,\n",
    "                63, 55, 47, 39, 31, 23, 15, 7]"
   ]
  },
  {
   "cell_type": "code",
   "execution_count": 116,
   "metadata": {
    "id": "9xAGB6yLY2Bi"
   },
   "outputs": [],
   "source": [
    "def initial_permutation(plain_text, initial_perm, no_bits):\n",
    "  permutation = \"\"\n",
    "  for i in range(0, no_bits):\n",
    "    permutation += plain_text[initial_perm[i] - 1]\n",
    "  return permutation"
   ]
  },
  {
   "cell_type": "markdown",
   "metadata": {
    "id": "omdSd7vMdROu"
   },
   "source": [
    "Hasil Initial Permutasi"
   ]
  },
  {
   "cell_type": "code",
   "execution_count": 117,
   "metadata": {
    "colab": {
     "base_uri": "https://localhost:8080/",
     "height": 35
    },
    "id": "Mg8RDiXJZ_iS",
    "outputId": "f61cc902-e6c5-4ea2-8584-a845c97e9358"
   },
   "outputs": [
    {
     "name": "stdout",
     "output_type": "stream",
     "text": [
      "1111111100000000011110000101010100000000000000001000000001100110\n"
     ]
    }
   ],
   "source": [
    "ascii_perm = initial_permutation(ascii_binary, initial_perm, 64)\n",
    "print(ascii_perm)"
   ]
  },
  {
   "cell_type": "markdown",
   "metadata": {
    "id": "A-HBq5sOjNsC"
   },
   "source": [
    "**Langkah 2 : Pecah hasil Initial Permutasi menjadi 2 bagian yang sama panjang (32 bit)**"
   ]
  },
  {
   "cell_type": "markdown",
   "metadata": {
    "id": "bFXD6GXqgbvS"
   },
   "source": [
    "Bagi ascii_perm menjadi 2 bagian yang sama panjang (32 bit)"
   ]
  },
  {
   "cell_type": "code",
   "execution_count": 118,
   "metadata": {
    "colab": {
     "base_uri": "https://localhost:8080/",
     "height": 35
    },
    "id": "no384DhcdkJB",
    "outputId": "a26c3c79-0683-4146-db59-0191141e66c3"
   },
   "outputs": [
    {
     "name": "stdout",
     "output_type": "stream",
     "text": [
      "11111111000000000111100001010101\n"
     ]
    }
   ],
   "source": [
    "half_length_plaintext = len(ascii_perm) // 2\n",
    "Lo = ascii_perm[:half_length_plaintext]\n",
    "print(Lo)"
   ]
  },
  {
   "cell_type": "code",
   "execution_count": 119,
   "metadata": {
    "colab": {
     "base_uri": "https://localhost:8080/",
     "height": 35
    },
    "id": "kv7XJRF0hMNZ",
    "outputId": "5ef92e4e-e6e0-4a57-f905-07fa035218d5"
   },
   "outputs": [
    {
     "name": "stdout",
     "output_type": "stream",
     "text": [
      "00000000000000001000000001100110\n"
     ]
    }
   ],
   "source": [
    "Ro = ascii_perm[half_length_plaintext:]\n",
    "print(Ro)"
   ]
  },
  {
   "cell_type": "markdown",
   "metadata": {
    "id": "6ChoCfDShiie"
   },
   "source": [
    "BREAK - Berhenti untuk proses permutasi plaintext"
   ]
  },
  {
   "cell_type": "markdown",
   "metadata": {
    "id": "bvK6PAdzi2z3"
   },
   "source": [
    "**Langkah 3 : Pembangkitan Kunci**"
   ]
  },
  {
   "cell_type": "markdown",
   "metadata": {
    "id": "huBWtL6IjveB"
   },
   "source": [
    "Key generator berupa bilangan hexadecimal"
   ]
  },
  {
   "cell_type": "code",
   "execution_count": 120,
   "metadata": {
    "id": "t0CV8GwMhpw_"
   },
   "outputs": [],
   "source": [
    "def hex2bin(hex_string):\n",
    "  try:\n",
    "    # decimal -> biner\n",
    "    binary_num = bin(hex_string)\n",
    "\n",
    "    # Menghilangkan awalan '0b' dan mengonversi ke bentuk 8 digit\n",
    "    binary_result = '{:08b}'.format(int(binary_num, 2))\n",
    "\n",
    "    return binary_result\n",
    "  except ValueError:\n",
    "    return \"Input bukan bilangan heksadesimal yang valid\""
   ]
  },
  {
   "cell_type": "markdown",
   "metadata": {
    "id": "cvW_G5OPsBH4"
   },
   "source": [
    "Ubah value hexadecimal -> decimal"
   ]
  },
  {
   "cell_type": "code",
   "execution_count": 121,
   "metadata": {
    "colab": {
     "base_uri": "https://localhost:8080/"
    },
    "id": "4AV-JNcTpnW9",
    "outputId": "6d7a4c21-7c19-4af1-e29b-ce2a1da6acb6"
   },
   "outputs": [
    {
     "name": "stdout",
     "output_type": "stream",
     "text": [
      "[19, 52, 87, 121, 155, 188, 223, 241]\n"
     ]
    }
   ],
   "source": [
    "key_list = [int(hex_value, 16) for hex_value in key.split()]\n",
    "print(key_list)"
   ]
  },
  {
   "cell_type": "markdown",
   "metadata": {
    "id": "SxWtSGylr298"
   },
   "source": [
    "Ubah value decimal tersebut -> binary"
   ]
  },
  {
   "cell_type": "code",
   "execution_count": 122,
   "metadata": {
    "colab": {
     "base_uri": "https://localhost:8080/"
    },
    "id": "gAXUNrkZr6Hc",
    "outputId": "83ade6c7-c2c4-4192-cec4-f2a8b3a2688b"
   },
   "outputs": [
    {
     "name": "stdout",
     "output_type": "stream",
     "text": [
      "['00010011', '00110100', '01010111', '01111001', '10011011', '10111100', '11011111', '11110001']\n"
     ]
    }
   ],
   "source": [
    "key_binary = []\n",
    "for i in range(len(key_list)):\n",
    "  key_binary.append(hex2bin(key_list[i]))\n",
    "print(key_binary)"
   ]
  },
  {
   "cell_type": "code",
   "execution_count": 123,
   "metadata": {
    "colab": {
     "base_uri": "https://localhost:8080/",
     "height": 35
    },
    "id": "MjmWdYbNwxkv",
    "outputId": "ddd303c6-2b77-462e-ea03-cca79fe0e37f"
   },
   "outputs": [
    {
     "name": "stdout",
     "output_type": "stream",
     "text": [
      "0001001100110100010101110111100110011011101111001101111111110001\n"
     ]
    }
   ],
   "source": [
    "key_binary = \"\".join(key_binary)\n",
    "print(key_binary)"
   ]
  },
  {
   "cell_type": "markdown",
   "metadata": {
    "id": "rKlDVkkwvpEB"
   },
   "source": [
    "**Table PC-1**"
   ]
  },
  {
   "cell_type": "code",
   "execution_count": 124,
   "metadata": {
    "id": "JsLeHi21vrkw"
   },
   "outputs": [],
   "source": [
    "matrix_pc_1 = [ 57, 49, 41, 33, 25, 17, 9,\n",
    "                1, 58, 50, 42, 34, 26, 18,\n",
    "                10, 2, 59, 51, 43, 35, 27,\n",
    "                19, 11, 3, 60, 52, 44, 36,\n",
    "                63, 55, 47, 39, 31, 23, 15,\n",
    "                7, 62, 54, 46, 38, 30, 22,\n",
    "                14, 6, 61, 53, 45, 37, 29,\n",
    "                21, 13, 5, 28, 20, 12, 4 ]"
   ]
  },
  {
   "cell_type": "markdown",
   "metadata": {
    "id": "uGD0jFeNwcyC"
   },
   "source": [
    "**Langkah 4 : Permutasi PC-1**"
   ]
  },
  {
   "cell_type": "code",
   "execution_count": 125,
   "metadata": {
    "colab": {
     "base_uri": "https://localhost:8080/",
     "height": 35
    },
    "id": "yAZGOMKbwh0P",
    "outputId": "7d5ca43f-0efb-4688-b5ce-ba0b2326224c"
   },
   "outputs": [
    {
     "name": "stdout",
     "output_type": "stream",
     "text": [
      "11110000110011001010101011110101010101100110011110001111\n"
     ]
    }
   ],
   "source": [
    "key_perm = initial_permutation(key_binary, matrix_pc_1, 56)\n",
    "print(key_perm)"
   ]
  },
  {
   "cell_type": "markdown",
   "metadata": {
    "id": "4Y5h5gd1zBMq"
   },
   "source": [
    "**Langkah 5 :  Pecah hasil key_perm menjadi 2 bagian yang sama panjang (28 bit)**"
   ]
  },
  {
   "cell_type": "code",
   "execution_count": 126,
   "metadata": {
    "colab": {
     "base_uri": "https://localhost:8080/",
     "height": 35
    },
    "id": "DcHdFrhFzR97",
    "outputId": "a003f1b0-2b41-44a4-9b11-98796c0828e2"
   },
   "outputs": [
    {
     "name": "stdout",
     "output_type": "stream",
     "text": [
      "1111000011001100101010101111\n"
     ]
    }
   ],
   "source": [
    "half_length_key = len(key_perm) // 2\n",
    "Co = key_perm[:half_length_key]\n",
    "print(Co)"
   ]
  },
  {
   "cell_type": "code",
   "execution_count": 127,
   "metadata": {
    "colab": {
     "base_uri": "https://localhost:8080/",
     "height": 35
    },
    "id": "AtMYgOJ9z2gr",
    "outputId": "5c98215f-6823-4501-b912-8f36cb9269e0"
   },
   "outputs": [
    {
     "name": "stdout",
     "output_type": "stream",
     "text": [
      "0101010101100110011110001111\n"
     ]
    }
   ],
   "source": [
    "Do = key_perm[half_length_key:]\n",
    "print(Do)"
   ]
  },
  {
   "cell_type": "markdown",
   "metadata": {
    "id": "gGzFCHkW0b02"
   },
   "source": [
    "**Langkah 6 :** *Wrapping* atau *Round-Shift*"
   ]
  },
  {
   "cell_type": "code",
   "execution_count": 128,
   "metadata": {
    "id": "4Cv29cgp0ott"
   },
   "outputs": [],
   "source": [
    "shift_table=[ 1, 1, 2, 2,\n",
    "              2, 2, 2, 2,\n",
    "              1, 2, 2, 2,\n",
    "              2, 2, 2, 1 ]"
   ]
  },
  {
   "cell_type": "markdown",
   "metadata": {
    "id": "zlZKOJLGcu56"
   },
   "source": [
    "**Table PC-2**"
   ]
  },
  {
   "cell_type": "code",
   "execution_count": 129,
   "metadata": {
    "id": "ujKEsW3F7KEC"
   },
   "outputs": [],
   "source": [
    "matrix_pc_2 = [ 14, 17, 11, 24, 1, 5,\n",
    "                3, 28, 15, 6, 21, 10,\n",
    "                23, 19, 12, 4, 26, 8,\n",
    "                16, 7, 27, 20, 13, 2,\n",
    "                41, 52, 31, 37, 47, 55,\n",
    "                30, 40, 51, 45, 33, 48,\n",
    "                44, 49, 39, 56, 34, 53,\n",
    "                46, 42, 50, 36, 29, 32 ]"
   ]
  },
  {
   "cell_type": "markdown",
   "metadata": {
    "id": "2MvR_0Oh3fyE"
   },
   "source": [
    "**Langkah 7 : Lakukan pergeseran Co dan Do ke kiri sesuai dengan shift table**"
   ]
  },
  {
   "cell_type": "code",
   "execution_count": 130,
   "metadata": {
    "id": "qpm2qf2O3mxl"
   },
   "outputs": [],
   "source": [
    "def shift_left(kunci,count_shift):\n",
    "  left_shift = \"\"\n",
    "  for i in range(count_shift): # Loop shift table\n",
    "    for j in range(1, len(kunci)): # Loop index dari key\n",
    "      left_shift += kunci[j]\n",
    "    left_shift += kunci[0]\n",
    "    kunci = left_shift\n",
    "    left_shift = \"\"\n",
    "  return kunci"
   ]
  },
  {
   "cell_type": "markdown",
   "metadata": {
    "id": "iqNRXeUev7eJ"
   },
   "source": [
    "**Langkah 8 : Hasil perolehan dari Cn dan Dn di permutasikan dengan table permutasi PC-2**"
   ]
  },
  {
   "cell_type": "code",
   "execution_count": 131,
   "metadata": {
    "colab": {
     "base_uri": "https://localhost:8080/"
    },
    "id": "GfRamXd94mX3",
    "outputId": "62452acd-e97c-4582-cf75-a88fc9be4f19"
   },
   "outputs": [
    {
     "name": "stdout",
     "output_type": "stream",
     "text": [
      "Pergeseran 1\n",
      "C1\t= 1110000110011001010101011111\n",
      "D1\t= 1010101011001100111100011110\n",
      "C1D1\t= 11100001100110010101010111111010101011001100111100011110\n",
      "\n"
     ]
    }
   ],
   "source": [
    "# Key Transformation\n",
    "cn_shift = Co\n",
    "dn_shift = Do\n",
    "# Save key transformation\n",
    "list_combine_perm = []\n",
    "decrypt = \"\"\n",
    "\n",
    "i = 0\n",
    "Cn = shift_left(cn_shift, shift_table[i])\n",
    "Dn = shift_left(dn_shift, shift_table[i])\n",
    "combine = Cn + Dn\n",
    "\n",
    "# Permutasi kan dengan table PC-2\n",
    "combine_perm = initial_permutation(combine, matrix_pc_2, 48)\n",
    "list_combine_perm.append(combine_perm)\n",
    "decrypt = list_combine_perm[::-1]\n",
    "\n",
    "print(f\"Pergeseran {i+1}\")\n",
    "print(\"C\" + str(i+1) + \"\\t=\", Cn)\n",
    "print(\"D\" + str(i+1) + \"\\t=\", Dn)\n",
    "print(\"C\" + str(i+1) + \"D\" + str(i+1) + \"\\t=\", combine)\n",
    "print()\n",
    "\n",
    "cn_shift = Cn\n",
    "dn_shift = Dn"
   ]
  },
  {
   "cell_type": "code",
   "execution_count": 132,
   "metadata": {},
   "outputs": [
    {
     "name": "stdout",
     "output_type": "stream",
     "text": [
      "Pergeseran 2\n",
      "C2\t= 1100001100110010101010111111\n",
      "D2\t= 0101010110011001111000111101\n",
      "C2D2\t= 11000011001100101010101111110101010110011001111000111101\n",
      "\n",
      "Pergeseran 3\n",
      "C3\t= 0000110011001010101011111111\n",
      "D3\t= 0101011001100111100011110101\n",
      "C3D3\t= 00001100110010101010111111110101011001100111100011110101\n",
      "\n",
      "Pergeseran 4\n",
      "C4\t= 0011001100101010101111111100\n",
      "D4\t= 0101100110011110001111010101\n",
      "C4D4\t= 00110011001010101011111111000101100110011110001111010101\n",
      "\n",
      "Pergeseran 5\n",
      "C5\t= 1100110010101010111111110000\n",
      "D5\t= 0110011001111000111101010101\n",
      "C5D5\t= 11001100101010101111111100000110011001111000111101010101\n",
      "\n",
      "Pergeseran 6\n",
      "C6\t= 0011001010101011111111000011\n",
      "D6\t= 1001100111100011110101010101\n",
      "C6D6\t= 00110010101010111111110000111001100111100011110101010101\n",
      "\n",
      "Pergeseran 7\n",
      "C7\t= 1100101010101111111100001100\n",
      "D7\t= 0110011110001111010101010110\n",
      "C7D7\t= 11001010101011111111000011000110011110001111010101010110\n",
      "\n",
      "Pergeseran 8\n",
      "C8\t= 0010101010111111110000110011\n",
      "D8\t= 1001111000111101010101011001\n",
      "C8D8\t= 00101010101111111100001100111001111000111101010101011001\n",
      "\n",
      "Pergeseran 9\n",
      "C9\t= 0101010101111111100001100110\n",
      "D9\t= 0011110001111010101010110011\n",
      "C9D9\t= 01010101011111111000011001100011110001111010101010110011\n",
      "\n",
      "Pergeseran 10\n",
      "C10\t= 0101010111111110000110011001\n",
      "D10\t= 1111000111101010101011001100\n",
      "C10D10\t= 01010101111111100001100110011111000111101010101011001100\n",
      "\n",
      "Pergeseran 11\n",
      "C11\t= 0101011111111000011001100101\n",
      "D11\t= 1100011110101010101100110011\n",
      "C11D11\t= 01010111111110000110011001011100011110101010101100110011\n",
      "\n",
      "Pergeseran 12\n",
      "C12\t= 0101111111100001100110010101\n",
      "D12\t= 0001111010101010110011001111\n",
      "C12D12\t= 01011111111000011001100101010001111010101010110011001111\n",
      "\n",
      "Pergeseran 13\n",
      "C13\t= 0111111110000110011001010101\n",
      "D13\t= 0111101010101011001100111100\n",
      "C13D13\t= 01111111100001100110010101010111101010101011001100111100\n",
      "\n",
      "Pergeseran 14\n",
      "C14\t= 1111111000011001100101010101\n",
      "D14\t= 1110101010101100110011110001\n",
      "C14D14\t= 11111110000110011001010101011110101010101100110011110001\n",
      "\n",
      "Pergeseran 15\n",
      "C15\t= 1111100001100110010101010111\n",
      "D15\t= 1010101010110011001111000111\n",
      "C15D15\t= 11111000011001100101010101111010101010110011001111000111\n",
      "\n",
      "Pergeseran 16\n",
      "C16\t= 1111000011001100101010101111\n",
      "D16\t= 0101010101100110011110001111\n",
      "C16D16\t= 11110000110011001010101011110101010101100110011110001111\n",
      "\n"
     ]
    }
   ],
   "source": [
    "for i in range(1, 16):\n",
    "  Cn = shift_left(cn_shift, shift_table[i])\n",
    "  Dn = shift_left(dn_shift, shift_table[i])\n",
    "  combine = Cn + Dn\n",
    "\n",
    "  # Permutasi kan dengan table PC-2\n",
    "  combine_perm = initial_permutation(combine, matrix_pc_2, 48)\n",
    "  list_combine_perm.append(combine_perm)\n",
    "  decrypt = list_combine_perm[::-1]\n",
    "\n",
    "  print(f\"Pergeseran {i+1}\")\n",
    "  print(\"C\" + str(i+1) + \"\\t=\", Cn)\n",
    "  print(\"D\" + str(i+1) + \"\\t=\", Dn)\n",
    "  print(\"C\" + str(i+1) + \"D\" + str(i+1) + \"\\t=\", combine)\n",
    "  print()\n",
    "\n",
    "  cn_shift = Cn\n",
    "  dn_shift = Dn"
   ]
  },
  {
   "cell_type": "markdown",
   "metadata": {
    "id": "6iJ9L7jcrmm9"
   },
   "source": [
    "Key hasil permutasi dengan table PC-2"
   ]
  },
  {
   "cell_type": "code",
   "execution_count": 133,
   "metadata": {
    "colab": {
     "base_uri": "https://localhost:8080/"
    },
    "id": "uxcZNC2FKuLs",
    "outputId": "9ebd862a-d535-4358-aebc-50afedb08be1"
   },
   "outputs": [
    {
     "name": "stdout",
     "output_type": "stream",
     "text": [
      "K1\t= 000110110000001011101111111111000111000001110010\n"
     ]
    }
   ],
   "source": [
    "i = 0\n",
    "print(\"K\" + str(i + 1) + \"\\t=\", list_combine_perm[i])"
   ]
  },
  {
   "cell_type": "code",
   "execution_count": 134,
   "metadata": {},
   "outputs": [
    {
     "name": "stdout",
     "output_type": "stream",
     "text": [
      "K2\t= 011110011010111011011001110110111100100111100101\n",
      "K3\t= 010101011111110010001010010000101100111110011001\n",
      "K4\t= 011100101010110111010110110110110011010100011101\n",
      "K5\t= 011111001110110000000111111010110101001110101000\n",
      "K6\t= 011000111010010100111110010100000111101100101111\n",
      "K7\t= 111011001000010010110111111101100001100010111100\n",
      "K8\t= 111101111000101000111010110000010011101111111011\n",
      "K9\t= 111000001101101111101011111011011110011110000001\n",
      "K10\t= 101100011111001101000111101110100100011001001111\n",
      "K11\t= 001000010101111111010011110111101101001110000110\n",
      "K12\t= 011101010111000111110101100101000110011111101001\n",
      "K13\t= 100101111100010111010001111110101011101001000001\n",
      "K14\t= 010111110100001110110111111100101110011100111010\n",
      "K15\t= 101111111001000110001101001111010011111100001010\n",
      "K16\t= 110010110011110110001011000011100001011111110101\n"
     ]
    }
   ],
   "source": [
    "for i in range(1, 16):\n",
    "  print(\"K\" + str(i + 1) + \"\\t=\", list_combine_perm[i])"
   ]
  },
  {
   "cell_type": "markdown",
   "metadata": {
    "id": "q-srh0r01FWl"
   },
   "source": [
    "Hasil permutasi plainteks sebelumnya"
   ]
  },
  {
   "cell_type": "code",
   "execution_count": 135,
   "metadata": {
    "colab": {
     "base_uri": "https://localhost:8080/"
    },
    "id": "ba1FE0VwwEgX",
    "outputId": "f52017d0-d829-414d-e7dc-cfb342c63c27"
   },
   "outputs": [
    {
     "name": "stdout",
     "output_type": "stream",
     "text": [
      "Lo :  11111111000000000111100001010101\n",
      "Ro :  00000000000000001000000001100110\n"
     ]
    }
   ],
   "source": [
    "print(\"Lo : \", Lo)\n",
    "print(\"Ro : \", Ro)"
   ]
  },
  {
   "cell_type": "markdown",
   "metadata": {
    "id": "fwvgy6i_1ztr"
   },
   "source": [
    "**Proses Enchipering**"
   ]
  },
  {
   "cell_type": "code",
   "execution_count": 136,
   "metadata": {
    "id": "PZVDub7JGYiD"
   },
   "outputs": [],
   "source": [
    "# XOR function\n",
    "def xor(a,b):\n",
    "  # a and b should be in binary\n",
    "  ans = \"\"\n",
    "  for i in range(len(a)):\n",
    "    if(a[i] == b[i]):\n",
    "      ans += \"0\"\n",
    "    else:\n",
    "      ans += \"1\"\n",
    "  return ans"
   ]
  },
  {
   "cell_type": "markdown",
   "metadata": {
    "id": "Y1FA5JbwSKA7"
   },
   "source": [
    "Function Konversi Binary -> Decimal"
   ]
  },
  {
   "cell_type": "code",
   "execution_count": 137,
   "metadata": {
    "id": "D3K-wmdFSQWs"
   },
   "outputs": [],
   "source": [
    "def bin2dec(msg):\n",
    "  decimal, i = 0,0\n",
    "  while(msg != 0):\n",
    "    dec = msg % 10\n",
    "    decimal += dec * pow(2, i)\n",
    "    msg = msg // 10\n",
    "    i += 1\n",
    "  return decimal"
   ]
  },
  {
   "cell_type": "markdown",
   "metadata": {
    "id": "i8gjFd6caDdV"
   },
   "source": [
    "**Inisialisasi Table Ekspansi**"
   ]
  },
  {
   "cell_type": "code",
   "execution_count": 138,
   "metadata": {
    "id": "gZMKXo7FH9cu"
   },
   "outputs": [],
   "source": [
    "# Table Ekspansi Ro (48 bit)\n",
    "expand_perm = [ 32, 1, 2, 3, 4, 5,\n",
    "                4, 5, 6, 7, 8, 9,\n",
    "                8, 9, 10, 11, 12, 13,\n",
    "                12, 13, 14, 15, 16, 17,\n",
    "                16, 17, 18, 19, 20, 21,\n",
    "                20, 21, 22, 23, 24, 25,\n",
    "                24, 25, 26, 27, 28, 29,\n",
    "                28, 29, 30, 31, 32, 1 ]"
   ]
  },
  {
   "cell_type": "markdown",
   "metadata": {
    "id": "t4sCEtgINq3B"
   },
   "source": [
    "**Inisialisasi S-Box**"
   ]
  },
  {
   "cell_type": "code",
   "execution_count": 139,
   "metadata": {
    "id": "X881tXv2NtoT"
   },
   "outputs": [],
   "source": [
    "s_box = [\n",
    "          # S-Box 1\n",
    "        [[14, 4, 13, 1, 2, 15, 11, 8, 3, 10, 6, 12, 5, 9, 0, 7],\n",
    "         [0, 15, 7, 4, 14, 2, 13, 1, 10, 6, 12, 11, 9, 5, 3, 8],\n",
    "         [4, 1, 14, 8, 13, 6, 2, 11, 15, 12, 9, 7, 3, 10, 5, 0],\n",
    "         [15, 12, 8, 2, 4, 9, 1, 7, 5, 11, 3, 14, 10, 0, 6, 13]],\n",
    "          # S-Box 2\n",
    "        [[15, 1, 8, 14, 6, 11, 3, 4, 9, 7, 2, 13, 12, 0, 5, 10],\n",
    "         [3, 13, 4, 7, 15, 2, 8, 14, 12, 0, 1, 10, 6, 9, 11, 5],\n",
    "         [0, 14, 7, 11, 10, 4, 13, 1, 5, 8, 12, 6, 9, 3, 2, 15],\n",
    "         [13, 8, 10, 1, 3, 15, 4, 2, 11, 6, 7, 12, 0, 5, 14, 9]],\n",
    "          # S-Box 3\n",
    "        [[10, 0, 9, 14, 6, 3, 15, 5, 1, 13, 12, 7, 11, 4, 2, 8],\n",
    "         [13, 7, 0, 9, 3, 4, 6, 10, 2, 8, 5, 14, 12, 11, 15, 1],\n",
    "         [13, 6, 4, 9, 8, 15, 3, 0, 11, 1, 2, 12, 5, 10, 14, 7],\n",
    "         [1, 10, 13, 0, 6, 9, 8, 7, 4, 15, 14, 3, 11, 5, 2, 12]],\n",
    "          # S-Box 4\n",
    "        [[7, 13, 14, 3, 0, 6, 9, 10, 1, 2, 8, 5, 11, 12, 4, 15],\n",
    "         [13, 8, 11, 5, 6, 15, 0, 3, 4, 7, 2, 12, 1, 10, 14, 9],\n",
    "         [10, 6, 9, 0, 12, 11, 7, 13, 15, 1, 3, 14, 5, 2, 8, 4],\n",
    "         [3, 15, 0, 6, 10, 1, 13, 8, 9, 4, 5, 11, 12, 7, 2, 14]],\n",
    "          # S-Box 5\n",
    "        [[2, 12, 4, 1, 7, 10, 11, 6, 8, 5, 3, 15, 13, 0, 14, 9],\n",
    "         [14, 11, 2, 12, 4, 7, 13, 1, 5, 0, 15, 10, 3, 9, 8, 6],\n",
    "         [4, 2, 1, 11, 10, 13, 7, 8, 15, 9, 12, 5, 6, 3, 0, 14],\n",
    "         [11, 8, 12, 7, 1, 14, 2, 13, 6, 15, 0, 9, 10, 4, 5, 3]],\n",
    "          # S-Box 6\n",
    "        [[12, 1, 10, 15, 9, 2, 6, 8, 0, 13, 3, 4, 14, 7, 5, 11],\n",
    "         [10, 15, 4, 2, 7, 12, 9, 5, 6, 1, 13, 14, 0, 11, 3, 8],\n",
    "         [9, 14, 15, 5, 2, 8, 12, 3, 7, 0, 4, 10, 1, 13, 11, 6],\n",
    "         [4, 3, 2, 12, 9, 5, 15, 10, 11, 14, 1, 7, 6, 0, 8, 13]],\n",
    "          # S-Box 7\n",
    "        [[4, 11, 2, 14, 15, 0, 8, 13, 3, 12, 9, 7, 5, 10, 6, 1],\n",
    "         [13, 0, 11, 7, 4, 9, 1, 10, 14, 3, 5, 12, 2, 15, 8, 6],\n",
    "         [1, 4, 11, 13, 12, 3, 7, 14, 10, 15, 6, 8, 0, 5, 9, 2],\n",
    "         [6, 11, 13, 8, 1, 4, 10, 7, 9, 5, 0, 15, 14, 2, 3, 12]],\n",
    "          # S-Box 8\n",
    "        [[13, 2, 8, 4, 6, 15, 11, 1, 10, 9, 3, 14, 5, 0, 12, 7],\n",
    "         [1, 15, 13, 8, 10, 3, 7, 4, 12, 5, 6, 11, 0, 14, 9, 2],\n",
    "         [7, 11, 4, 1, 9, 12, 14, 2, 0, 6, 10, 13, 15, 3, 5, 8],\n",
    "         [2, 1, 14, 7, 4, 10, 8, 13, 15, 12, 9, 0, 3, 5, 6, 11]]\n",
    "      ]"
   ]
  },
  {
   "cell_type": "code",
   "execution_count": 140,
   "metadata": {
    "id": "0gvfCvQBhKiZ"
   },
   "outputs": [],
   "source": [
    "# Permutation table / P-Box\n",
    "perm_table=[16, 7, 20, 21, 29, 12, 28, 17,\n",
    "            1, 15, 23, 26, 5, 18, 31, 10,\n",
    "            2, 8, 24, 14, 32, 27, 3, 9,\n",
    "            19, 13, 30, 6, 22, 11, 4, 25]"
   ]
  },
  {
   "cell_type": "markdown",
   "metadata": {
    "id": "fKvvUno1lArh"
   },
   "source": [
    "1. ekspansi tabel (48 bit)\n",
    "2. xor dengan kunci\n",
    "3. substitusi nilai dengan tabel S-Box\n",
    "4. acak dengan P-Box\n",
    "5. xor dengan nilai L-1"
   ]
  },
  {
   "cell_type": "code",
   "execution_count": 141,
   "metadata": {
    "colab": {
     "base_uri": "https://localhost:8080/"
    },
    "id": "_KuYiOBC1266",
    "outputId": "65385ad5-437e-4fe3-e111-db15215857db"
   },
   "outputs": [
    {
     "name": "stdout",
     "output_type": "stream",
     "text": [
      "L1\t= 00000000000000001000000001100110\n",
      "R1\t= 01010100001001010010100000000111\n",
      "\n"
     ]
    }
   ],
   "source": [
    "s_box_str = \"\"\n",
    "list_s_box = []\n",
    "p_box = []\n",
    "left = Lo\n",
    "right = Ro\n",
    "left_t = []\n",
    "right_t = []\n",
    "\n",
    "i = 0\n",
    "right_expand = initial_permutation(right, expand_perm, 48)  # Tabel ekspansi\n",
    "A = xor(right_expand, list_combine_perm[i])  # XOR dengan kunci\n",
    "\n",
    "# Menghitung row dan column dari s-box\n",
    "for j in range(0, 8):\n",
    "    row = bin2dec(int(A[j * 6] + A[j * 6 + 5]))  # nilai 1 dan 6\n",
    "    column = bin2dec(\n",
    "        int(A[j * 6 + 1] + A[j * 6 + 2] + A[j * 6 + 3] + A[j * 6 + 4])\n",
    "    )  # nilai 2 - 5\n",
    "    value = s_box[j][row][column]\n",
    "    s_box_str += dec2bin(value)\n",
    "list_s_box.append(s_box_str)\n",
    "p_box.append(initial_permutation(list_s_box[i], perm_table, 32))  # P-Box\n",
    "p_transform = p_box[i]\n",
    "\n",
    "left_s = right  # L1 = R0\n",
    "left_t.append(left_s)\n",
    "\n",
    "right = xor(left, p_transform)  # R1\n",
    "right_t.append(right)\n",
    "\n",
    "s_box_str = \"\"\n",
    "print(\"L\" + str(i + 1) + \"\\t=\", left_t[i])\n",
    "print(\"R\" + str(i + 1) + \"\\t=\", right_t[i])\n",
    "print()\n"
   ]
  },
  {
   "cell_type": "code",
   "execution_count": 142,
   "metadata": {},
   "outputs": [
    {
     "name": "stdout",
     "output_type": "stream",
     "text": [
      "L2\t= 01010100001001010010100000000111\n",
      "R2\t= 10011000110010111001000101101101\n",
      "\n",
      "L3\t= 10011000110010111001000101101101\n",
      "R3\t= 01000010111001110111110111000111\n",
      "\n",
      "L4\t= 01000010111001110111110111000111\n",
      "R4\t= 01101110000110111011110010001111\n",
      "\n",
      "L5\t= 01101110000110111011110010001111\n",
      "R5\t= 10101111000100101010000010111011\n",
      "\n",
      "L6\t= 10101111000100101010000010111011\n",
      "R6\t= 00111110011110101101000101110101\n",
      "\n",
      "L7\t= 00111110011110101101000101110101\n",
      "R7\t= 00010011001111011001000101000110\n",
      "\n",
      "L8\t= 00010011001111011001000101000110\n",
      "R8\t= 11101101110001100110010000110011\n",
      "\n",
      "L9\t= 11101101110001100110010000110011\n",
      "R9\t= 00110000011001000100101001011000\n",
      "\n",
      "L10\t= 00110000011001000100101001011000\n",
      "R10\t= 01000001101110011000111110111010\n",
      "\n",
      "L11\t= 01000001101110011000111110111010\n",
      "R11\t= 00010000101111111000110000101101\n",
      "\n",
      "L12\t= 00010000101111111000110000101101\n",
      "R12\t= 00111101010110010011101100001001\n",
      "\n",
      "L13\t= 00111101010110010011101100001001\n",
      "R13\t= 11110010110001100011000111011000\n",
      "\n",
      "L14\t= 11110010110001100011000111011000\n",
      "R14\t= 10001001100100101000000110011100\n",
      "\n",
      "L15\t= 10001001100100101000000110011100\n",
      "R15\t= 11111010110000100010010100101101\n",
      "\n",
      "L16\t= 01001010010011000010000110000110\n",
      "R16\t= 11111010110000100010010100101101\n",
      "\n"
     ]
    }
   ],
   "source": [
    "for i in range(1, 16):  # Iterations 2 to 16\n",
    "    right_expand = initial_permutation(right, expand_perm, 48)  # Tabel ekspansi\n",
    "    A = xor(right_expand, list_combine_perm[i])  # XOR dengan kunci\n",
    "\n",
    "    # Menghitung row dan column dari s-box\n",
    "    for j in range(0, 8):\n",
    "        row = bin2dec(int(A[j * 6] + A[j * 6 + 5]))  # nilai 1 dan 6\n",
    "        column = bin2dec(\n",
    "            int(A[j * 6 + 1] + A[j * 6 + 2] + A[j * 6 + 3] + A[j * 6 + 4])\n",
    "        )  # nilai 2 - 5\n",
    "        value = s_box[j][row][column]\n",
    "        s_box_str += dec2bin(value)\n",
    "    list_s_box.append(s_box_str)\n",
    "    p_box.append(initial_permutation(list_s_box[i], perm_table, 32))  # P-Box\n",
    "    p_transform = p_box[i]\n",
    "\n",
    "    left = right_t[i - 1]\n",
    "    right = xor(left_t[i - 1], p_transform)\n",
    "\n",
    "    if i == 15:\n",
    "        left_t.append(right)\n",
    "        right_t.append(left)\n",
    "    else:\n",
    "        left_t.append(left)\n",
    "        right_t.append(right)\n",
    "\n",
    "    s_box_str = \"\"\n",
    "    print(\"L\" + str(i + 1) + \"\\t=\", left_t[i])\n",
    "    print(\"R\" + str(i + 1) + \"\\t=\", right_t[i])\n",
    "    print()\n"
   ]
  },
  {
   "cell_type": "markdown",
   "metadata": {
    "id": "YhoYjmxZOSKV"
   },
   "source": [
    "**Permutasikan value Left (L) dan Right(R) dengan table Invers Permutasi serta proses mendapatkan cipher**"
   ]
  },
  {
   "cell_type": "code",
   "execution_count": 143,
   "metadata": {
    "id": "KHJSbQelODJz"
   },
   "outputs": [],
   "source": [
    "# Final Permutaion Table\n",
    "final_perm = [40, 8, 48, 16, 56, 24, 64, 32,\n",
    "              39, 7, 47, 15, 55, 23, 63, 31,\n",
    "              38, 6, 46, 14, 54, 22, 62, 30,\n",
    "              37, 5, 45, 13, 53, 21, 61, 29,\n",
    "              36, 4, 44, 12, 52, 20, 60, 28,\n",
    "              35, 3, 43, 11, 51, 19, 59, 27,\n",
    "              34, 2, 42, 10, 50, 18, 58, 26,\n",
    "              33, 1, 41, 9, 49, 17, 57, 25 ]"
   ]
  },
  {
   "cell_type": "code",
   "execution_count": 144,
   "metadata": {
    "colab": {
     "base_uri": "https://localhost:8080/",
     "height": 35
    },
    "id": "EIpz4_jtORqc",
    "outputId": "c585f19e-7e1a-4665-bc49-1725cfa3d4be"
   },
   "outputs": [
    {
     "name": "stdout",
     "output_type": "stream",
     "text": [
      "0000111011100001000110111101001010000000100011101111000010100001\n"
     ]
    }
   ],
   "source": [
    "cipher = \"\"\n",
    "plaintext_invers = left_t[15] + right_t[15]\n",
    "for i in range(len(plaintext_invers)):\n",
    "    cipher = initial_permutation(plaintext_invers, final_perm, 64)\n",
    "print(cipher)"
   ]
  },
  {
   "cell_type": "markdown",
   "metadata": {
    "id": "LjNJLdWW_Ihd"
   },
   "source": [
    "Konversi bilangan Biner -> Text"
   ]
  },
  {
   "cell_type": "code",
   "execution_count": 145,
   "metadata": {
    "colab": {
     "base_uri": "https://localhost:8080/"
    },
    "id": "OGfxvHE-_MIl",
    "outputId": "1934b61c-b790-4990-ab17-de97aefaae27"
   },
   "outputs": [
    {
     "name": "stdout",
     "output_type": "stream",
     "text": [
      "Hasil encrypt teks :  \u000eá\u001bÒð¡\n"
     ]
    }
   ],
   "source": [
    "partitions_bits = 8 # Menyusun bilangan biner dalam potongan-potongan 8 bit\n",
    "binary_bits = [cipher[i:i + partitions_bits] for i in range(0, len(cipher), partitions_bits)]\n",
    "decimal_characters = [int(partitions, 2) for partitions in binary_bits]\n",
    "\n",
    "# Mengonversi bilangan bulat -> teks\n",
    "text = ''.join(chr(decimal) for decimal in decimal_characters)\n",
    "\n",
    "print(\"Hasil encrypt teks : \", text)"
   ]
  },
  {
   "cell_type": "markdown",
   "metadata": {
    "id": "P-27kd0XgMx7"
   },
   "source": [
    "**Decrypt Text**"
   ]
  },
  {
   "cell_type": "code",
   "execution_count": 146,
   "metadata": {
    "colab": {
     "base_uri": "https://localhost:8080/"
    },
    "id": "b4_KcR2CgQir",
    "outputId": "8796f3b2-2b5f-4ff3-bbe6-4433d01fee14"
   },
   "outputs": [
    {
     "name": "stdout",
     "output_type": "stream",
     "text": [
      "['110010110011110110001011000011100001011111110101', '101111111001000110001101001111010011111100001010', '010111110100001110110111111100101110011100111010', '100101111100010111010001111110101011101001000001', '011101010111000111110101100101000110011111101001', '001000010101111111010011110111101101001110000110', '101100011111001101000111101110100100011001001111', '111000001101101111101011111011011110011110000001', '111101111000101000111010110000010011101111111011', '111011001000010010110111111101100001100010111100', '011000111010010100111110010100000111101100101111', '011111001110110000000111111010110101001110101000', '011100101010110111010110110110110011010100011101', '010101011111110010001010010000101100111110011001', '011110011010111011011001110110111100100111100101', '000110110000001011101111111111000111000001110010']\n"
     ]
    }
   ],
   "source": [
    "print(decrypt)"
   ]
  },
  {
   "cell_type": "code",
   "execution_count": 147,
   "metadata": {
    "colab": {
     "base_uri": "https://localhost:8080/"
    },
    "id": "KvGJPujolcVX",
    "outputId": "8020aebb-d4b2-4386-ddb9-05c3da96cf04"
   },
   "outputs": [
    {
     "name": "stdout",
     "output_type": "stream",
     "text": [
      "K1\t= 110010110011110110001011000011100001011111110101\n",
      "K2\t= 101111111001000110001101001111010011111100001010\n",
      "K3\t= 010111110100001110110111111100101110011100111010\n",
      "K4\t= 100101111100010111010001111110101011101001000001\n",
      "K5\t= 011101010111000111110101100101000110011111101001\n",
      "K6\t= 001000010101111111010011110111101101001110000110\n",
      "K7\t= 101100011111001101000111101110100100011001001111\n",
      "K8\t= 111000001101101111101011111011011110011110000001\n",
      "K9\t= 111101111000101000111010110000010011101111111011\n",
      "K10\t= 111011001000010010110111111101100001100010111100\n",
      "K11\t= 011000111010010100111110010100000111101100101111\n",
      "K12\t= 011111001110110000000111111010110101001110101000\n",
      "K13\t= 011100101010110111010110110110110011010100011101\n",
      "K14\t= 010101011111110010001010010000101100111110011001\n",
      "K15\t= 011110011010111011011001110110111100100111100101\n",
      "K16\t= 000110110000001011101111111111000111000001110010\n"
     ]
    }
   ],
   "source": [
    "for i in range(len(decrypt)):\n",
    "  print(\"K\" + str(i + 1) + \"\\t=\", decrypt[i])"
   ]
  },
  {
   "cell_type": "markdown",
   "metadata": {
    "id": "l0jxSSSUkoVU"
   },
   "source": [
    "**Proses Dechipering**"
   ]
  },
  {
   "cell_type": "code",
   "execution_count": 148,
   "metadata": {
    "colab": {
     "base_uri": "https://localhost:8080/"
    },
    "id": "9kZ3wifDkWzV",
    "outputId": "efbfce33-d45c-4be4-ab3f-49ace0964241"
   },
   "outputs": [
    {
     "name": "stdout",
     "output_type": "stream",
     "text": [
      "L16\t= 11111010110000100010010100101101\n",
      "R16\t= 10001001100100101000000110011100\n",
      "\n",
      "L15\t= 10001001100100101000000110011100\n",
      "R15\t= 11110010110001100011000111011000\n",
      "\n",
      "L14\t= 11110010110001100011000111011000\n",
      "R14\t= 00111101010110010011101100001001\n",
      "\n",
      "L13\t= 00111101010110010011101100001001\n",
      "R13\t= 00010000101111111000110000101101\n",
      "\n",
      "L12\t= 00010000101111111000110000101101\n",
      "R12\t= 01000001101110011000111110111010\n",
      "\n",
      "L11\t= 01000001101110011000111110111010\n",
      "R11\t= 00110000011001000100101001011000\n",
      "\n",
      "L10\t= 00110000011001000100101001011000\n",
      "R10\t= 11101101110001100110010000110011\n",
      "\n",
      "L9\t= 11101101110001100110010000110011\n",
      "R9\t= 00010011001111011001000101000110\n",
      "\n",
      "L8\t= 00010011001111011001000101000110\n",
      "R8\t= 00111110011110101101000101110101\n",
      "\n",
      "L7\t= 00111110011110101101000101110101\n",
      "R7\t= 10101111000100101010000010111011\n",
      "\n",
      "L6\t= 10101111000100101010000010111011\n",
      "R6\t= 01101110000110111011110010001111\n",
      "\n",
      "L5\t= 01101110000110111011110010001111\n",
      "R5\t= 01000010111001110111110111000111\n",
      "\n",
      "L4\t= 01000010111001110111110111000111\n",
      "R4\t= 10011000110010111001000101101101\n",
      "\n",
      "L3\t= 10011000110010111001000101101101\n",
      "R3\t= 01010100001001010010100000000111\n",
      "\n",
      "L2\t= 01010100001001010010100000000111\n",
      "R2\t= 00000000000000001000000001100110\n",
      "\n",
      "L1\t= 11111111000000000111100001010101\n",
      "R1\t= 00000000000000001000000001100110\n",
      "\n"
     ]
    }
   ],
   "source": [
    "s_box_str = \"\"\n",
    "list_s_box = []\n",
    "p_box = []\n",
    "left = left_t[15]\n",
    "right = right_t[15]\n",
    "left_t = []\n",
    "right_t = []\n",
    "\n",
    "for i in range(0, 16):\n",
    "  right_expand = initial_permutation(right, expand_perm, 48)\n",
    "  A = xor(right_expand, decrypt[i])\n",
    "\n",
    "  # Menghitung row dan column dari s-box\n",
    "  for j in range(0, 8):\n",
    "    row = bin2dec(int(A[j * 6] + A[j * 6 + 5]))\n",
    "    column = bin2dec(int(A[j * 6 + 1] + A[j * 6 + 2] + A[j * 6 + 3] + A[j * 6 + 4]))\n",
    "    value = s_box[j][row][column]\n",
    "    s_box_str += dec2bin(value)\n",
    "  list_s_box.append(s_box_str)\n",
    "  p_box.append(initial_permutation(list_s_box[i], perm_table, 32))\n",
    "  p_transform = p_box[i]\n",
    "  if i == 0:\n",
    "    left_s = right # L1 = R0\n",
    "    left_t.append(left_s)\n",
    "\n",
    "    right = xor(left, p_transform) # R1)\n",
    "    right_t.append(right)\n",
    "  else:\n",
    "    left = right_t[i-1]\n",
    "    right = xor(left_t[i-1], p_transform)\n",
    "\n",
    "    if i == 15:\n",
    "      left_t.append(right)\n",
    "      right_t.append(left)\n",
    "    else:\n",
    "      left_t.append(left)\n",
    "      right_t.append(right)\n",
    "  s_box_str = \"\"\n",
    "  print(\"L\" + str(16-i) + \"\\t=\", left_t[i])\n",
    "  print(\"R\" + str(16-i) + \"\\t=\", right_t[i])\n",
    "  print()"
   ]
  },
  {
   "cell_type": "code",
   "execution_count": 149,
   "metadata": {
    "colab": {
     "base_uri": "https://localhost:8080/",
     "height": 35
    },
    "id": "w7suwt1Nn5XX",
    "outputId": "861c44b5-2da4-4e8b-8dfd-06b371eee80e"
   },
   "outputs": [
    {
     "name": "stdout",
     "output_type": "stream",
     "text": [
      "0100000101000010010000110100010001000101010001100100011101001000\n"
     ]
    }
   ],
   "source": [
    "decipher = \"\"\n",
    "plaintext_invers = left_t[15] + right_t[15] #L16 & R16\n",
    "for i in range(len(plaintext_invers)):\n",
    "  decipher = initial_permutation(plaintext_invers, final_perm, 64) #IP-1\n",
    "print(decipher)"
   ]
  },
  {
   "cell_type": "markdown",
   "metadata": {
    "id": "gKjBi0yHrMj6"
   },
   "source": [
    "Konversi bilangan Biner -> Teks"
   ]
  },
  {
   "cell_type": "code",
   "execution_count": 150,
   "metadata": {
    "colab": {
     "base_uri": "https://localhost:8080/"
    },
    "id": "pj2HliN2qAwQ",
    "outputId": "09f18126-5c60-44c9-c670-2326c5031fd4"
   },
   "outputs": [
    {
     "name": "stdout",
     "output_type": "stream",
     "text": [
      "Hasil decrypt teks :  ABCDEFGH\n"
     ]
    }
   ],
   "source": [
    "partitions_bits = 8 # Menyusun bilangan biner dalam potongan-potongan 8 bit\n",
    "binary_bits = [decipher[i:i + partitions_bits] for i in range(0, len(decipher), partitions_bits)]\n",
    "decimal_characters = [int(partitions, 2) for partitions in binary_bits]\n",
    "\n",
    "# Mengonversi bilangan bulat -> teks\n",
    "text = ''.join(chr(decimal) for decimal in decimal_characters)\n",
    "\n",
    "print(\"Hasil decrypt teks : \", text)"
   ]
  },
  {
   "cell_type": "code",
   "execution_count": null,
   "metadata": {},
   "outputs": [],
   "source": []
  },
  {
   "cell_type": "code",
   "execution_count": null,
   "metadata": {},
   "outputs": [],
   "source": []
  },
  {
   "cell_type": "code",
   "execution_count": null,
   "metadata": {},
   "outputs": [],
   "source": []
  }
 ],
 "metadata": {
  "colab": {
   "provenance": []
  },
  "kernelspec": {
   "display_name": "Python 3 (ipykernel)",
   "language": "python",
   "name": "python3"
  },
  "language_info": {
   "codemirror_mode": {
    "name": "ipython",
    "version": 3
   },
   "file_extension": ".py",
   "mimetype": "text/x-python",
   "name": "python",
   "nbconvert_exporter": "python",
   "pygments_lexer": "ipython3",
   "version": "3.11.3"
  }
 },
 "nbformat": 4,
 "nbformat_minor": 1
}
